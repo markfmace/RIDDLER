{
 "cells": [
  {
   "cell_type": "markdown",
   "metadata": {},
   "source": [
    "Proposed solution to FiveThirtyEight's Riddler column Oct 16, 2020 by Mark Mark\n",
    "<br>\n",
    "<url>https://fivethirtyeight.com/features/is-the-price-right/</url>\n",
    "<br>\n",
    "<br>\n",
    "<i>\n",
    "Riddler Express\n",
    "<br>\n",
    "As you may have seen in FiveThirtyEight’s reporting, there’s an election coming up. Inspired, Vikrant Kulkarni has an electoral enigma for you:\n",
    "\n",
    "On Nov. 3, the residents of Riddler City will elect a mayor from among three candidates. The winner will be the candidate who receives an outright majority (i.e., more than 50 percent of the vote). But if no one achieves this outright majority, there will be a runoff election among the top two candidates.\n",
    "\n",
    "If the voting shares of each candidate are uniformly distributed between 0 percent and 100 percent (subject to the constraint that they add up to 100 percent, of course), then what is the probability of a runoff?\n",
    "\n",
    "Extra credit: Suppose there are N candidates instead of three. What is the probability of a runoff?\n",
    "</i>"
   ]
  },
  {
   "cell_type": "code",
   "execution_count": 1,
   "metadata": {},
   "outputs": [],
   "source": [
    "import numpy as np\n",
    "import pandas as pd\n",
    "import random\n",
    "import matplotlib.pyplot as plt \n",
    "import ast"
   ]
  },
  {
   "cell_type": "code",
   "execution_count": 2,
   "metadata": {},
   "outputs": [],
   "source": [
    "def determine_if_runoff_needed(candidate_result_list, winning_threshold = 0.50):\n",
    "    \"\"\"\n",
    "    Check if run-off is needed by seeing if someone has a majority\n",
    "    \"\"\"\n",
    "        \n",
    "    if np.max(candidate_result_list) > winning_threshold:\n",
    "        # someone won\n",
    "        return False\n",
    "    else:\n",
    "        # run-off needed\n",
    "        return True\n",
    "    \n",
    "\n",
    "def simulate_vote(number_of_candidates, atol=1e-8):\n",
    "    \"\"\"\n",
    "    Simulate the voting process for a given number of candidates assuming\n",
    "    all candidates have equal chance of getting votes.\n",
    "    \"\"\"\n",
    "    # draw number_of_candidate random numbers and re-normalize so sum is unity\n",
    "    candidate_result_list = [random.random() for _ in range(number_of_candidates)]\n",
    "    candidate_result_list = np.array(candidate_result_list)/sum(candidate_result_list)\n",
    "    \n",
    "    # sanity check         \n",
    "    if not np.isclose(sum(candidate_result_list), 1.0, atol=atol) or len(candidate_result_list) != number_of_candidates:\n",
    "        print(f'Critical error -- election results do not add to unity: {np.isclose(sum(candidate_result_list), 1.0, atol=atol)} {sum(candidate_result_list)}')\n",
    "        print(f'Critical error -- results list has different size than number of candidates: {len(candidate_result_list) != number_of_candidates} {len(candidate_result_list)}')\n",
    "    \n",
    "    # determine if the election is successful or a \n",
    "    needs_runoff = determine_if_runoff_needed(candidate_result_list=candidate_result_list)\n",
    "        \n",
    "    return needs_runoff\n",
    "\n",
    "def run_elections(min_number_of_candidates=3, max_number_of_candidates=10, number_of_samples=10000):\n",
    "    \"\"\"\n",
    "    Run multiple simulation election with a given number of candidates\n",
    "    \"\"\"\n",
    "    # collect results for increasing number of candidates\n",
    "    candidate_pool_results =[]\n",
    "    for number_of_candidates in range(min_number_of_candidates, max_number_of_candidates):\n",
    "        # simulate multiple times\n",
    "        election_cycles = [simulate_vote(number_of_candidates=number_of_candidates) for _ in range(number_of_samples)]\n",
    "        # get fraction of run-off elections needed on average\n",
    "        fraction_with_runoff = np.mean(election_cycles)\n",
    "        # uncertainty of the mean\n",
    "        unc_fraction_with_runoff = np.std(election_cycles)/np.sqrt(len(election_cycles) - 1)\n",
    "\n",
    "        candidate_pool_results.append([number_of_candidates, fraction_with_runoff, unc_fraction_with_runoff])\n",
    "        \n",
    "    return np.array(candidate_pool_results)\n",
    "    \n",
    "    "
   ]
  },
  {
   "cell_type": "code",
   "execution_count": 3,
   "metadata": {},
   "outputs": [
    {
     "name": "stdout",
     "output_type": "stream",
     "text": [
      "Error tolerance 0.0071\n"
     ]
    }
   ],
   "source": [
    "# get election results for multiple candidates\n",
    "n_samples = 20000 # we can vary the number of samples to check for convergence, but here we have multiple order of magnitude between value and stat uncertainty\n",
    "election_results = run_elections(number_of_samples=n_samples)\n",
    "print(f'Error tolerance {round(max([el[2]/el[1] for el in election_results]),5)}')\n",
    "      "
   ]
  },
  {
   "cell_type": "code",
   "execution_count": 4,
   "metadata": {},
   "outputs": [
    {
     "name": "stdout",
     "output_type": "stream",
     "text": [
      "For three candidates, the probabilty for a run-off is: 49.82+/-0.35%\n"
     ]
    }
   ],
   "source": [
    "# printout of main result\n",
    "three_candidate_result = election_results[election_results[:,0]==3][0]\n",
    "print(f'For three candidates, the probabilty for a run-off is: {round(three_candidate_result[1]*100,2)}+/-{round(three_candidate_result[2]*100,2)}%')\n",
    "      "
   ]
  },
  {
   "cell_type": "code",
   "execution_count": 5,
   "metadata": {},
   "outputs": [
    {
     "data": {
      "image/png": "[encoded data removed]",
      "text/plain": [
       "<Figure size 432x288 with 1 Axes>"
      ]
     },
     "metadata": {
      "needs_background": "light"
     },
     "output_type": "display_data"
    }
   ],
   "source": [
    "# plot for the extra credit\n",
    "plt.errorbar(x=election_results[:,0], y=election_results[:,1]*100, yerr=election_results[:,2], label=f'Samples={n_samples}')\n",
    "plt.xlabel('Number of Candidates in Election')\n",
    "plt.ylabel('Percenter of elections which go to run-off')\n",
    "plt.legend(frameon=False)\n",
    "plt.show()"
   ]
  },
  {
   "cell_type": "markdown",
   "metadata": {},
   "source": [
    "As expected, when the number of candidates grows, the number likelihood of having a runoff approaches 100%."
   ]
  }
 ],
 "metadata": {
  "kernelspec": {
   "display_name": "Python 3",
   "language": "python",
   "name": "python3"
  },
  "language_info": {
   "codemirror_mode": {
    "name": "ipython",
    "version": 3
   },
   "file_extension": ".py",
   "mimetype": "text/x-python",
   "name": "python",
   "nbconvert_exporter": "python",
   "pygments_lexer": "ipython3",
   "version": "3.7.7"
  }
 },
 "nbformat": 4,
 "nbformat_minor": 4
}
