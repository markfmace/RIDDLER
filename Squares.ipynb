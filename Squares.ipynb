{
 "cells": [
  {
   "cell_type": "markdown",
   "metadata": {},
   "source": [
    "Riddler Express July 19, 2019\n",
    "\n",
    "From Tyler Barron, where in the square?:\n",
    "\n",
    "You are given an empty 4-by-4 square and one marker. You can color in the individual squares or leave them untouched. After you color as many or as few squares as you’d like, I will secretly cut out a 2-by-2 piece of it and then show it to you without rotating it. You then have to tell me where it was (e.g., “top middle” or “bottom right,” etc.) in the original 4-by-4 square.\n",
    "\n",
    "Can you design a square for which you’ll always know where the piece came from?"
   ]
  },
  {
   "cell_type": "code",
   "execution_count": 143,
   "metadata": {},
   "outputs": [],
   "source": [
    "import matplotlib.pyplot as plt\n",
    "import matplotlib.patches as patches\n",
    "import numpy as np\n",
    "\n",
    "# PLOT 4x4 GRID WITH OUTLINE\n",
    "def PlotSolution(x,y):\n",
    "    \n",
    "    fig,ax=plt.subplots()\n",
    "    fig.set_figheight(2)\n",
    "    fig.set_figwidth(2)\n",
    "    currentAxis = plt.gca()\n",
    "    plt.gca().set_aspect('equal', adjustable='box')\n",
    "    plt.xticks(range(5)) \n",
    "    plt.yticks(range(5)) \n",
    "    plt.xlim(1,5)\n",
    "    plt.ylim(1,5)\n",
    "    plt.setp(ax.get_xticklabels(), visible=False)\n",
    "    plt.setp(ax.get_yticklabels(), visible=False)\n",
    "    plt.grid()\n",
    "            \n",
    "    # HIGHLIGHT 2x2 \n",
    "    if(x>0):\n",
    "\n",
    "        # SOLUTION\n",
    "        currentAxis.add_patch(patches.Rectangle((2,2),1,1, edgecolor='red',facecolor='red', alpha=0.5,zorder=1))\n",
    "        currentAxis.add_patch(patches.Rectangle((2,3),1,1, edgecolor='red',facecolor='red', alpha=0.5,zorder=1))\n",
    "        currentAxis.add_patch(patches.Rectangle((3,2),1,1, edgecolor='red',facecolor='red', alpha=0.5,zorder=1))\n",
    "        currentAxis.add_patch(patches.Rectangle((3,3),1,1, edgecolor='red',facecolor='red', alpha=0.5,zorder=1))\n",
    "       \n",
    "        # HIGHLIGHT\n",
    "        currentAxis.add_patch(patches.Rectangle((x, y), 2, 2, linewidth=2,edgecolor='black',facecolor='none', alpha=1.0,zorder=10))\n",
    "\n",
    "        # GREY OUT OTHER PARTS #\n",
    "        currentAxis.add_patch(patches.Rectangle((x+2,y), 2.0, 2.0, edgecolor='black',facecolor='black', alpha=0.5,zorder=1))\n",
    "        currentAxis.add_patch(patches.Rectangle((x-2,y), 2.0, 2.0, edgecolor='black',facecolor='black', alpha=0.5,zorder=1))\n",
    "        currentAxis.add_patch(patches.Rectangle((x+2,y+2), 2.0, 2.0, edgecolor='black',facecolor='black', alpha=0.5,zorder=1))\n",
    "        currentAxis.add_patch(patches.Rectangle((x+2,y-2), 2.0, 2.0, edgecolor='black',facecolor='black', alpha=0.5,zorder=1))\n",
    "        currentAxis.add_patch(patches.Rectangle((x-2,y+2), 2.0, 2.0, edgecolor='black',facecolor='black', alpha=0.5,zorder=1))\n",
    "        currentAxis.add_patch(patches.Rectangle((x,y+2), 2.0, 2.0, edgecolor='black',facecolor='black', alpha=0.5,zorder=1))\n",
    "        currentAxis.add_patch(patches.Rectangle((x,y-2), 2.0, 2.0, edgecolor='black',facecolor='black', alpha=0.5,zorder=1))\n",
    "        currentAxis.add_patch(patches.Rectangle((x-2,y-2), 2.0, 2.0, edgecolor='black',facecolor='black', alpha=0.5,zorder=1))\n",
    "\n",
    "    else:\n",
    "\n",
    "        # SOLUTION ONLY #\n",
    "        currentAxis.add_patch(patches.Rectangle((2,2), 1.0, 1.0, edgecolor='red',facecolor='red', alpha=0.5))\n",
    "        currentAxis.add_patch(patches.Rectangle((2,3), 1.0, 1.0, edgecolor='red',facecolor='red', alpha=0.5))\n",
    "        currentAxis.add_patch(patches.Rectangle((3,2), 1.0, 1.0, edgecolor='red',facecolor='red', alpha=0.5))\n",
    "        currentAxis.add_patch(patches.Rectangle((3,3), 1.0, 1.0, edgecolor='red',facecolor='red', alpha=0.5))\n",
    "\n",
    "\n",
    "    plt.show()"
   ]
  },
  {
   "cell_type": "markdown",
   "metadata": {},
   "source": [
    "Here is the solution"
   ]
  },
  {
   "cell_type": "code",
   "execution_count": 144,
   "metadata": {},
   "outputs": [
    {
     "data": {
      "image/png": "[encoded data removed]",
      "text/plain": [
       "<Figure size 144x144 with 1 Axes>"
      ]
     },
     "metadata": {
      "needs_background": "light"
     },
     "output_type": "display_data"
    }
   ],
   "source": [
    "x=PlotSolution(0,0)"
   ]
  },
  {
   "cell_type": "markdown",
   "metadata": {},
   "source": [
    "Here are the 9 unique sub-areas"
   ]
  },
  {
   "cell_type": "code",
   "execution_count": null,
   "metadata": {},
   "outputs": [],
   "source": []
  },
  {
   "cell_type": "code",
   "execution_count": 145,
   "metadata": {},
   "outputs": [
    {
     "data": {
      "image/png": "[encoded data removed]",
      "text/plain": [
       "<Figure size 144x144 with 1 Axes>"
      ]
     },
     "metadata": {
      "needs_background": "light"
     },
     "output_type": "display_data"
    },
    {
     "data": {
      "image/png": "[encoded data removed]",
      "text/plain": [
       "<Figure size 144x144 with 1 Axes>"
      ]
     },
     "metadata": {
      "needs_background": "light"
     },
     "output_type": "display_data"
    },
    {
     "data": {
      "image/png": "[encoded data removed]",
      "text/plain": [
       "<Figure size 144x144 with 1 Axes>"
      ]
     },
     "metadata": {
      "needs_background": "light"
     },
     "output_type": "display_data"
    },
    {
     "data": {
      "image/png": "[encoded data removed]",
      "text/plain": [
       "<Figure size 144x144 with 1 Axes>"
      ]
     },
     "metadata": {
      "needs_background": "light"
     },
     "output_type": "display_data"
    },
    {
     "data": {
      "image/png": "[encoded data removed]",
      "text/plain": [
       "<Figure size 144x144 with 1 Axes>"
      ]
     },
     "metadata": {
      "needs_background": "light"
     },
     "output_type": "display_data"
    },
    {
     "data": {
      "image/png": "[encoded data removed]",
      "text/plain": [
       "<Figure size 144x144 with 1 Axes>"
      ]
     },
     "metadata": {
      "needs_background": "light"
     },
     "output_type": "display_data"
    },
    {
     "data": {
      "image/png": "[encoded data removed]",
      "text/plain": [
       "<Figure size 144x144 with 1 Axes>"
      ]
     },
     "metadata": {
      "needs_background": "light"
     },
     "output_type": "display_data"
    },
    {
     "data": {
      "image/png": "[encoded data removed]",
      "text/plain": [
       "<Figure size 144x144 with 1 Axes>"
      ]
     },
     "metadata": {
      "needs_background": "light"
     },
     "output_type": "display_data"
    },
    {
     "data": {
      "image/png": "[encoded data removed]",
      "text/plain": [
       "<Figure size 144x144 with 1 Axes>"
      ]
     },
     "metadata": {
      "needs_background": "light"
     },
     "output_type": "display_data"
    },
    {
     "data": {
      "text/plain": [
       "(None, None, None, None, None, None, None, None, None)"
      ]
     },
     "execution_count": 145,
     "metadata": {},
     "output_type": "execute_result"
    }
   ],
   "source": [
    "PlotSolution(1,1),PlotSolution(1,2),PlotSolution(1,3),PlotSolution(2,1),PlotSolution(2,2),PlotSolution(2,3),PlotSolution(3,1),PlotSolution(3,2),PlotSolution(3,3)"
   ]
  },
  {
   "cell_type": "code",
   "execution_count": null,
   "metadata": {},
   "outputs": [],
   "source": []
  },
  {
   "cell_type": "code",
   "execution_count": null,
   "metadata": {},
   "outputs": [],
   "source": []
  }
 ],
 "metadata": {
  "kernelspec": {
   "display_name": "Python 3",
   "language": "python",
   "name": "python3"
  },
  "language_info": {
   "codemirror_mode": {
    "name": "ipython",
    "version": 3
   },
   "file_extension": ".py",
   "mimetype": "text/x-python",
   "name": "python",
   "nbconvert_exporter": "python",
   "pygments_lexer": "ipython3",
   "version": "3.6.8"
  }
 },
 "nbformat": 4,
 "nbformat_minor": 2
}
