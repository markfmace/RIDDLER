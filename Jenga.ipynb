{
 "cells": [
  {
   "cell_type": "markdown",
   "metadata": {},
   "source": [
    "Riddler Classic - Feb 19, 2021 - Submission by M. Mace\n",
    "<br><br>\n",
    "<i>Problem Statement</i>\n",
    "<br>\n",
    "In the game of Jenga, you build a tower and then remove its blocks, one at a time, until the tower collapses. But in Riddler Jenga, you start with one block and then place more blocks on top of it, one at a time.\n",
    "\n",
    "All the blocks have the same alignment (e.g., east-west). Importantly, whenever you place a block, its center is picked randomly along the block directly beneath it. For example, the following animation shows Riddler Jenga towers that were randomly constructed before ultimately collapsing when the fifth, 10th and 15th blocks were placed. The block highlighted in red is the one above which the blocks were no longer balanced.\n",
    "\n",
    "Three Riddler Jenga towers are animated. The first collapses when the fifth block is placed. The second collapses when the 10th block is placed. The third collapses when the 15th block is placed.\n",
    "On average, how many blocks must you place so that your tower collapses — that is, until at least one block falls off?\n",
    "\n",
    "(Note: This problem is not asking for the average height of the tower after any unbalanced blocks have fallen off. It is asking for the average number of blocks added in order to make the tower collapse in the first place.)"
   ]
  },
  {
   "cell_type": "code",
   "execution_count": 11,
   "metadata": {},
   "outputs": [],
   "source": [
    "import random\n",
    "import numpy as np"
   ]
  },
  {
   "cell_type": "code",
   "execution_count": 50,
   "metadata": {},
   "outputs": [],
   "source": [
    " # Without loss of generality, let the block length be 1\n",
    "def place_block(previous_block_center, block_len=1):\n",
    "    \"\"\"\n",
    "    Given the the current top blcok absolute center position \n",
    "    (relative to center position of the bottom block) and a block length\n",
    "    (without loss of generality 1), returns position of randomly\n",
    "    placed new block.\n",
    "    :param previous_block_center: absolute position of \n",
    "    :param block_len:\n",
    "    :return: absolute position of new blocks center\n",
    "    \"\"\"\n",
    "    rel_position = block_len*(random.random()-0.5) \n",
    "    return previous_block_center + rel_position\n",
    "\n",
    "def run_simulation(block_len=1):\n",
    "    \"\"\"\n",
    "    Simulate a single game of Jenga. First we place the initial block, then randomly\n",
    "    place a new block with center laid randomly with respect to the block before it.\n",
    "    A blocks fall if the maximum separation between two block centers is greater half\n",
    "    the block length. Since it is only this point that two blocks are separated by at\n",
    "    least half the block length, \n",
    "    :param : \n",
    "    :return: \n",
    "    \"\"\"\n",
    "    # first block defines origin\n",
    "    list_of_centers = [0]\n",
    "    # determine index (base 1) of brick which if block_len/2 away from the newest laid brick\n",
    "    collapse_index = 0\n",
    "    while collapse_index == 0:\n",
    "        # draw new brick\n",
    "        list_of_centers.append(place_block(previous_block_center=list_of_centers[-1], \n",
    "                                           block_len=block_len))\n",
    "        # find indices of any bricks whose center differ by over block_len/2\n",
    "        collapse_indices = [idx + 1 for idx, center in enumerate(list_of_centers[:-1]) \n",
    "                                      if abs(list_of_centers[-1] - center) > block_len / 2]\n",
    "        # if latest added block is determined have indices where a collapse occurs, get closest to top\n",
    "        if len(collapse_indices):\n",
    "            collapse_index = max(collapse_indices)\n",
    "\n",
    "    # exits when block falls and returns number which fall\n",
    "    return len(list_of_centers) - collapse_index\n"
   ]
  },
  {
   "cell_type": "code",
   "execution_count": 52,
   "metadata": {},
   "outputs": [],
   "source": [
    "# run a large number of simulations\n",
    "n_samples = 100000\n",
    "simulation_results = [run_simulation() for _ in range(n_samples)]"
   ]
  },
  {
   "cell_type": "code",
   "execution_count": 55,
   "metadata": {},
   "outputs": [
    {
     "name": "stdout",
     "output_type": "stream",
     "text": [
      "2.546 +/- 0.003 blocks on average fall\n"
     ]
    }
   ],
   "source": [
    "print(f'{round(np.mean(simulation_results),3)} +/- {round(np.std(simulation_results)/np.sqrt(len(simulation_results)-1), 3)} blocks on average fall')"
   ]
  },
  {
   "cell_type": "code",
   "execution_count": null,
   "metadata": {},
   "outputs": [],
   "source": []
  },
  {
   "cell_type": "code",
   "execution_count": null,
   "metadata": {},
   "outputs": [],
   "source": []
  }
 ],
 "metadata": {
  "kernelspec": {
   "display_name": "Python 3",
   "language": "python",
   "name": "python3"
  },
  "language_info": {
   "codemirror_mode": {
    "name": "ipython",
    "version": 3
   },
   "file_extension": ".py",
   "mimetype": "text/x-python",
   "name": "python",
   "nbconvert_exporter": "python",
   "pygments_lexer": "ipython3",
   "version": "3.7.7"
  }
 },
 "nbformat": 4,
 "nbformat_minor": 4
}
