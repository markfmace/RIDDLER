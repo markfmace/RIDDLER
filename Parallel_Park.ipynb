{
 "cells": [
  {
   "cell_type": "markdown",
   "metadata": {},
   "source": [
    "Solution to Parallel Parking Riddler puzzle \n",
    "by Mark Mace\n",
    "<br>\n",
    "From\n",
    "<url>\n",
    "https://fivethirtyeight.com/features/can-you-parallel-park-your-car/\n",
    "</url>\n",
    "<br>\n",
    "<br>\n",
    "Original prompt:\n",
    "\n",
    "<br>\n",
    "<i>\n",
    "Every weekend, I drive into town for contactless curbside pickup at a local restaurant. Across the street from the restaurant are six parking spots, lined up in a row.\n",
    "\n",
    "While I can parallel park, it’s definitely not my preference. No parallel parking is required when the rearmost of the six spots is available or when there are two consecutive open spots. If there is a random arrangement of cars currently occupying four of the six spots, what’s the probability that I will have to parallel park?\n",
    "</i>"
   ]
  },
  {
   "cell_type": "code",
   "execution_count": 94,
   "metadata": {},
   "outputs": [],
   "source": [
    "import numpy as np\n",
    "import random \n",
    "import matplotlib.pyplot as plt"
   ]
  },
  {
   "cell_type": "code",
   "execution_count": 62,
   "metadata": {},
   "outputs": [],
   "source": [
    "# number of spaces\n",
    "n_spaces_to_park = 6\n",
    "# number of cars parked\n",
    "n_cars_parked = 4\n",
    "          "
   ]
  },
  {
   "cell_type": "code",
   "execution_count": 67,
   "metadata": {},
   "outputs": [],
   "source": [
    "# define functions \n",
    "\n",
    "def check_for_double_space(list_of_occupied_spaces,\n",
    "                           n_spaces,\n",
    "                           n_cars):\n",
    "    \"\"\"\n",
    "    Check that there are no pairs of consequtive spaces open by looking at \n",
    "    a sorted list of occupied spaces combined with the next occupied space.\n",
    "    We then evaluate the difference in space numbering, checking if they\n",
    "    are consequtive or not.\n",
    "    \"\"\"\n",
    "    list_of_occupied_spaces = sorted(list_of_occupied_spaces)\n",
    "    \n",
    "    # case that first two or last two spaces are open\n",
    "    if list_of_occupied_spaces[0] == n_spaces - len(list_of_occupied_spaces) or list_of_occupied_spaces[-1] == len(list_of_occupied_spaces) - 1:\n",
    "        return True\n",
    "    \n",
    "    # check for two car gaps\n",
    "    for space_1, space_2 in zip(list_of_occupied_spaces, list_of_occupied_spaces[1:]):\n",
    "        if space_2 - space_1 == n_spaces - n_cars + 1:\n",
    "            return False\n",
    "        else:\n",
    "            return True\n",
    "\n",
    "\n",
    "def check_need_to_parallel_park(list_of_occupied_spaces,\n",
    "                                n_spaces,\n",
    "                                n_cars):\n",
    "    \"\"\"\n",
    "    Check if you will have to parallel park given a list of space numbers for occupied \n",
    "    parking spaces. Checks for if the last spot in the list is occupied, and if there are\n",
    "    two consequtive spaces.\n",
    "    \"\"\"\n",
    "    if n_spaces-1 not in list_of_occupied_space:\n",
    "        return True\n",
    "    elif check_for_double_space(list_of_occupied_spaces=list_of_occupied_spaces, n_spaces=n_spaces, n_cars=n_cars):\n",
    "        return True\n",
    "    else:\n",
    "        return False"
   ]
  },
  {
   "cell_type": "code",
   "execution_count": 103,
   "metadata": {},
   "outputs": [],
   "source": [
    "# We look for the value as the statistics becoming 'infinitely good'\n",
    "# e.g. when the quantities like mean and standard error of the mean\n",
    "# no longer depend on the number of sampled car parking configurations\n",
    "# considered. We take a list of values and check that the results convege\n",
    "\n",
    "list_of_sample_values = [2**n for n in range(8, 26, 2)]"
   ]
  },
  {
   "cell_type": "code",
   "execution_count": 107,
   "metadata": {},
   "outputs": [
    {
     "name": "stdout",
     "output_type": "stream",
     "text": [
      "Number of samples: 256\n",
      "Fraction of time where you can park: 0.90625 +/- 0.01825\n",
      "Number of samples: 1024\n",
      "Fraction of time where you can park: 0.93066 +/- 0.00794\n",
      "Number of samples: 4096\n",
      "Fraction of time where you can park: 0.93359 +/- 0.00389\n",
      "Number of samples: 16384\n",
      "Fraction of time where you can park: 0.93481 +/- 0.00193\n",
      "Number of samples: 65536\n",
      "Fraction of time where you can park: 0.93442 +/- 0.00097\n",
      "Number of samples: 262144\n",
      "Fraction of time where you can park: 0.93311 +/- 0.00049\n",
      "Number of samples: 1048576\n",
      "Fraction of time where you can park: 0.93322 +/- 0.00024\n",
      "Number of samples: 4194304\n",
      "Fraction of time where you can park: 0.93331 +/- 0.00012\n",
      "Number of samples: 16777216\n",
      "Fraction of time where you can park: 0.93333 +/- 6e-05\n"
     ]
    }
   ],
   "source": [
    "list_of_results = []\n",
    "for n_samples in list_of_sample_values:\n",
    "    car_config = [check_need_to_parallel_park(list_of_occupied_spaces=random.sample(list(range(n_spaces_to_park)), n_cars_parked), n_spaces=n_spaces_to_park, n_cars=n_cars_parked) for _ in range(n_samples)]\n",
    "    mean_success_rate = np.mean(car_config)\n",
    "    std_err_of_mean = np.std(car_config)/np.sqrt(len(car_config) - 1)\n",
    "    print(f'Number of samples: {n_samples}')\n",
    "    list_of_results.append([n_samples, mean_success_rate, std_err_of_mean])\n",
    "    print(f'Fraction of time where you can park: {round(mean_success_rate, 5)} +/- {round(std_err_of_mean, 5)}')\n",
    "    "
   ]
  },
  {
   "cell_type": "code",
   "execution_count": 130,
   "metadata": {},
   "outputs": [
    {
     "data": {
      "image/png": "[encoded data removed]",
      "text/plain": [
       "<Figure size 432x288 with 1 Axes>"
      ]
     },
     "metadata": {
      "needs_background": "light"
     },
     "output_type": "display_data"
    }
   ],
   "source": [
    "# plot convergence\n",
    "list_of_results=np.array(list_of_results)\n",
    "list_of_results_sorted=list_of_results[list_of_results[:,0].argsort()]\n",
    "\n",
    "plt.figure()\n",
    "plt.plot(list_of_results_sorted[:,0], list_of_results_sorted[:,1])\n",
    "plt.xlabel('Number of samples')\n",
    "plt.ylabel('Fraction of times no parallel parking needed')\n",
    "plt.show()"
   ]
  },
  {
   "cell_type": "code",
   "execution_count": null,
   "metadata": {},
   "outputs": [],
   "source": []
  }
 ],
 "metadata": {
  "kernelspec": {
   "display_name": "Python 3",
   "language": "python",
   "name": "python3"
  },
  "language_info": {
   "codemirror_mode": {
    "name": "ipython",
    "version": 3
   },
   "file_extension": ".py",
   "mimetype": "text/x-python",
   "name": "python",
   "nbconvert_exporter": "python",
   "pygments_lexer": "ipython3",
   "version": "3.7.7"
  }
 },
 "nbformat": 4,
 "nbformat_minor": 4
}
