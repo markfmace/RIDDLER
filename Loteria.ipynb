{
 "cells": [
  {
   "cell_type": "markdown",
   "metadata": {},
   "source": [
    "Riddler Express\n",
    "From Taylor Firman, the unluck of the draw:\n",
    "\n",
    "Lotería is a traditional Mexican game of chance, akin to bingo. Each player receives a four-by-four grid of images. Instead of a comically large rotating bin of numbered balls, the caller randomly draws a card from a deck containing all 54 possible images. If a player has that image on their grid, they mark it off. The exact rules can vary, but in this version, the game ends when one of the players fills their entire card (and screams “¡Lotería!”). Each of the 54 possible images can only show up once on each card, but other than that restriction, assume that image selection and placement on each player’s grid is random.\n",
    "\n",
    "One beautiful day, you and your friend Christina decide to face off in a friendly game of Lotería. What is the probability that either of you ends the game with an empty grid, i.e. none of your images was called? How does this probability change if there were more or fewer unique images? Larger or smaller player grids?\n",
    "\n",
    "Solution by Mark Mace"
   ]
  },
  {
   "cell_type": "code",
   "execution_count": 1,
   "metadata": {},
   "outputs": [],
   "source": [
    "import numpy as np\n",
    "import matplotlib.pyplot as plt \n",
    "import random"
   ]
  },
  {
   "cell_type": "code",
   "execution_count": 2,
   "metadata": {},
   "outputs": [],
   "source": [
    "# TAKES A GIVEN DECK FO CARDS, PICKS AT RANDOM AN ENTRY, REMOVES ENTRY FROM DECK, AND RETURNS PICKED ENTRY #\n",
    "def draw(deck):\n",
    "    pick=random.randint(0,len(deck)-1)\n",
    "    image=deck[pick]\n",
    "    del deck[pick]\n",
    "    return image\n"
   ]
  },
  {
   "cell_type": "code",
   "execution_count": 3,
   "metadata": {},
   "outputs": [],
   "source": [
    "# PLAYS A ROUND OF LOTERIA WITH TWO PLAYERS #\n",
    "# TotNumberOfCards -- TOTAL NUMBER OF PLAYING CARDS -- IN PROBLEM THIS IS 54 #\n",
    "# NumGridCards -- TOTAL NUMBER OF CARDS FOR A PLAYERS GRID -- IN PROBLEM THIS IS 4 #\n",
    "\n",
    "def PlayRound(TotNumberOfCards,NumGridCards):\n",
    "    Grid1=[] # PLAYER 1 GRID OF IMAGES #\n",
    "    Grid2=[] # PLAYER 2 GRID OF IMAGES #\n",
    "\n",
    "    BaseCards=[i for i in range(0,TotNumberOfCards)] # ALL POSSIBLE CARDS CHOICES #\n",
    "    # PLAYER 1 GRID IS DETERMINED #\n",
    "    for i in range(NumGridCards):\n",
    "        Grid1.append(draw(BaseCards))\n",
    "\n",
    "    BaseCards=[i for i in range(0,TotNumberOfCards)]\n",
    "    # PLAYER 2 GRID IS DETERMINED #\n",
    "    for i in range(NumGridCards):\n",
    "        Grid2.append(draw(BaseCards))\n",
    "\n",
    "    P1Left=len(Grid1) # STARTING VALUE FOR NUMBER OF IMAGES PLAYER 1 HAS LEFT ON THEIR GRID #\n",
    "    P2Left=len(Grid2) # STARTING VALUE FOR NUMBER OF IMAGES PLAYER 2 HAS LEFT ON THEIR GRID #\n",
    "\n",
    "        \n",
    "    PlayingCards=[i for i in range(0,TotNumberOfCards)] # INITIALIZE OUR PLAYING CARDS #\n",
    "    PCardsLeft=len(PlayingCards) # INITIALIZE VALUE FOR PLAYING CARDS LEFT\n",
    "\n",
    "    # KEEP PLAYING UNTIL PLAYER 1 OR 2 WIN #\n",
    "    while(P1Left>0 and P2Left>0):\n",
    "        \n",
    "        pickedCard=draw(PlayingCards) # DRAW CARD #\n",
    "\n",
    "        if pickedCard in Grid1: Grid1.remove(pickedCard) # REMOVE ENTRY IF PLAYER 1 HAS ON THEIR GRID #\n",
    "        if pickedCard in Grid2: Grid2.remove(pickedCard) # REMOVE ENTRY IF PLAYER 2 HAS ON THEIR GRID #\n",
    "\n",
    "        # UPDATE COUNTS #\n",
    "        P1Left=len(Grid1)\n",
    "        P2Left=len(Grid2)\n",
    "        PCardsLeft=len(PlayingCards)\n",
    "\n",
    "    if(P1Left==NumGridCards or P2Left==NumGridCards):\n",
    "        return 1 # IF EITHER PLAY HAS AN UNTOUCHED GRID #\n",
    "    else:\n",
    "        return 0 # IF BOTH PLAYERS HAVE HAD IMAGES SELECTED #\n"
   ]
  },
  {
   "cell_type": "code",
   "execution_count": null,
   "metadata": {},
   "outputs": [],
   "source": [
    "# STANDARD VERSION OF THE GAME\n",
    "NumberOfGames=5000000\n",
    "nCards=54\n",
    "nGridCards=4\n",
    "AllGames=[PlayRound(nCards,nGridCards) for i in range(NumberOfGames)]\n",
    "prob=np.mean(AllGames)\n",
    "print(\"Probability of having one empty grid is: \",prob*100,\"% for grids of size \",nGridCards,\" with \",nCards,\" total images\")"
   ]
  },
  {
   "cell_type": "code",
   "execution_count": null,
   "metadata": {},
   "outputs": [],
   "source": [
    "# CHANGING THE NUMBER OF IMAGES AND THE PLAYER GRID SIZE #\n",
    "\n",
    "NumberOfGames=10000 # FOR GIVEN CONFIGURATION #\n",
    "\n",
    "ListOfProbabilities=[] # KEEP TRACK OF PROBAIBLITy\n",
    "for nCards in range(10,80,5):\n",
    "    for nGridCards in range(1,5):\n",
    "#         print(nGridCards,nCards)\n",
    "        AllGames=[PlayRound(nCards,nGridCards) for i in range(NumberOfGames)]\n",
    "        prob=np.mean(AllGames)\n",
    "        ListOfProbabilities.append([nGridCards,nCards,prob])\n"
   ]
  },
  {
   "cell_type": "code",
   "execution_count": null,
   "metadata": {},
   "outputs": [],
   "source": [
    "# PLOT PROBABILITIES #\n",
    "\n",
    "ListOfProbabilities=np.array(ListOfProbabilities)\n",
    "x=ListOfProbabilities[:,0]\n",
    "y=ListOfProbabilities[:,1]\n",
    "z=ListOfProbabilities[:,2]\n",
    "\n",
    "plt.tricontourf(x,y,z, 10) # choose 20 contour levels, just to show how good its interpolation is\n",
    "\n",
    "plt.xticks(np.arange(min(x), max(x)+1, 1.0))\n",
    "plt.xlabel('Size of player grid')\n",
    "plt.ylabel('Size of image deck')\n",
    "cbar = plt.colorbar()\n",
    "cbar.set_label('Probability for a player to have empty grid')"
   ]
  },
  {
   "cell_type": "code",
   "execution_count": null,
   "metadata": {},
   "outputs": [],
   "source": []
  }
 ],
 "metadata": {
  "kernelspec": {
   "display_name": "Python 3",
   "language": "python",
   "name": "python3"
  },
  "language_info": {
   "codemirror_mode": {
    "name": "ipython",
    "version": 3
   },
   "file_extension": ".py",
   "mimetype": "text/x-python",
   "name": "python",
   "nbconvert_exporter": "python",
   "pygments_lexer": "ipython3",
   "version": "3.6.3"
  }
 },
 "nbformat": 4,
 "nbformat_minor": 2
}
